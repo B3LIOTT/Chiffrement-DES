{
 "cells": [
  {
   "attachments": {},
   "cell_type": "markdown",
   "metadata": {},
   "source": [
    "### Travaux Pratiques sur le chiffrement DES\n",
    "___\n",
    "#### Auteurs: B3LIOTT et Altrusc\n",
    "#### Date: 16/02/2023\n",
    "#### Matière: Cryptographie\n",
    "___"
   ]
  },
  {
   "cell_type": "code",
   "execution_count": 12,
   "metadata": {},
   "outputs": [],
   "source": [
    "import random \n",
    "from numpy import array"
   ]
  },
  {
   "attachments": {},
   "cell_type": "markdown",
   "metadata": {},
   "source": [
    "La fonction $StringToBinary$ ne fait pas partie du DES, elle permetera uniquement de visualiser le chiffrement. Elle prend en paramètre une chaine de caractère isible,  et la retourne sous la forme de mots p tels que $p = p_1p_2\\cdots p_{64}  \\in\\{0,1\\}^{64}$"
   ]
  },
  {
   "cell_type": "code",
   "execution_count": 277,
   "metadata": {},
   "outputs": [],
   "source": [
    "def StringToBinary(string):\n",
    "    p = ''.join(format(ord(i), '08b') for i in string)\n",
    "    listP = []\n",
    "    interP = \"\"\n",
    "    for i in range(1, len(p)+1):\n",
    "        interP += p[i-1]\n",
    "        if i%64 == 0:\n",
    "            listP.append(interP)\n",
    "            interP = \"\"\n",
    "    \n",
    "    if interP != \"\":\n",
    "        listP.append(interP)\n",
    "    \n",
    "    # Ajout d'espaces si la taille du dernier bloc est inférieure à 64\n",
    "    listP[-1] += \"00100000\"*(8-len(listP[-1])//8)\n",
    "\n",
    "    return listP"
   ]
  },
  {
   "cell_type": "code",
   "execution_count": 270,
   "metadata": {},
   "outputs": [
    {
     "name": "stdout",
     "output_type": "stream",
     "text": [
      "8\n",
      "['0100001001101111011011100110101001101111011101010111001001101110', '0110111001101110011011100110010001101110011011100110111001100100', '0110111000100000001000000010000000100000001000000010000000100000']\n"
     ]
    }
   ],
   "source": [
    "#Test\n",
    "Message = \"Bonjournnnndnnndn\"\n",
    "print(StringToBinary(Message))"
   ]
  },
  {
   "attachments": {},
   "cell_type": "markdown",
   "metadata": {},
   "source": [
    "La fonction $clearRandomMessage$ retourne un message aléatoire de 64 bits."
   ]
  },
  {
   "cell_type": "code",
   "execution_count": 16,
   "metadata": {},
   "outputs": [],
   "source": [
    "def clearRandomMessage():\n",
    "    msg = \"\"\n",
    "    for i in range(0, 64):\n",
    "        msg += str(random.randint(0, 1))\n",
    "    return msg"
   ]
  },
  {
   "cell_type": "code",
   "execution_count": 17,
   "metadata": {},
   "outputs": [
    {
     "name": "stdout",
     "output_type": "stream",
     "text": [
      "0010100000101100001001001110011111111011101111010011000000010111\n"
     ]
    }
   ],
   "source": [
    "#Test\n",
    "print(clearRandomMessage())"
   ]
  },
  {
   "cell_type": "code",
   "execution_count": 18,
   "metadata": {},
   "outputs": [],
   "source": [
    "def afficheOctets(p):\n",
    "    s = \"\"\n",
    "    for i in range(len(p)):\n",
    "        if i%8 == 0:\n",
    "            s += \"\\n\" + \"Octet \" + str(i//8) + \": \"\n",
    "\n",
    "        s += str(p[i])\n",
    "\n",
    "    print(s)    \n"
   ]
  },
  {
   "cell_type": "code",
   "execution_count": 19,
   "metadata": {},
   "outputs": [
    {
     "name": "stdout",
     "output_type": "stream",
     "text": [
      "\n",
      "Octet 0: 01000010\n",
      "Octet 1: 01101111\n",
      "Octet 2: 01101110\n",
      "Octet 3: 01101010\n",
      "Octet 4: 01101111\n",
      "Octet 5: 01110101\n",
      "Octet 6: 01110010\n",
      "Octet 7: 00100000\n",
      "\n",
      "\n",
      "Octet 0: 01010001\n",
      "Octet 1: 01000111\n",
      "Octet 2: 00001110\n",
      "Octet 3: 11011100\n",
      "Octet 4: 11011001\n",
      "Octet 5: 00010100\n",
      "Octet 6: 00100010\n",
      "Octet 7: 00110000\n"
     ]
    }
   ],
   "source": [
    "#Test\n",
    "afficheOctets(StringToBinary(Message))\n",
    "print()\n",
    "afficheOctets(clearRandomMessage())"
   ]
  },
  {
   "attachments": {},
   "cell_type": "markdown",
   "metadata": {},
   "source": [
    "La fonction $genOctetKey$ génère un octet aléatoire dont la somme des bits est impaire (vous comprendrez en lisant le paragraphe suivant sur l'ensemble K des clés)."
   ]
  },
  {
   "cell_type": "code",
   "execution_count": 20,
   "metadata": {},
   "outputs": [],
   "source": [
    "def genOctetKey():\n",
    "    k = \"\"\n",
    "    randomInd = 0\n",
    "    randomImpaire = 1\n",
    "    indList = [0,1,2,3,4,5,6,7]\n",
    "    bitList = [0]*8\n",
    "    randomImpaire = 2*random.randint(0,3) + 1 #nombre impair aléatoire qui définira la somme des bits de l'octet\n",
    "        \n",
    "    for i in range(randomImpaire):\n",
    "        randomInd = random.randint(0,len(indList)-1) #indice aléatoire parmis ceux qui restent pour placer le bit dans l'octet\n",
    "        bitList[indList[randomInd]] = 1\n",
    "        indList.remove(indList[randomInd])\n",
    "\n",
    "    # formatage sous forme d'une chaine de caractères\n",
    "    for bit in bitList:\n",
    "        k += str(bit)\n",
    "        \n",
    "    return k"
   ]
  },
  {
   "cell_type": "code",
   "execution_count": 25,
   "metadata": {},
   "outputs": [
    {
     "name": "stdout",
     "output_type": "stream",
     "text": [
      "\n",
      "Octet 0: 00010000\n"
     ]
    }
   ],
   "source": [
    "#Test\n",
    "afficheOctets(genOctetKey())"
   ]
  },
  {
   "attachments": {},
   "cell_type": "markdown",
   "metadata": {},
   "source": [
    "La fonction $genKey$ génère une clé de session k (DES de 64 bits) aléatoirement.  \n",
    "\n",
    "La clé k est telle que: \n",
    "\\begin{align*}\n",
    "k \\in K = \\{(b_1b_2\\cdots b_{64}) \\in \\{0,1\\}^{64} \\quad \\text{|} \\quad \\forall j=0\\dots7, \\sum_{i=1}^{8}b_{8j+i} \\equiv 1 \\pmod 2 \\}\n",
    "\\end{align*}"
   ]
  },
  {
   "cell_type": "code",
   "execution_count": 26,
   "metadata": {},
   "outputs": [],
   "source": [
    "def genKey():\n",
    "    k = \"\"\n",
    "\n",
    "    # On génère 8 octets pour la clé de 64 bits\n",
    "    for i in range(8):\n",
    "        k += genOctetKey()\n",
    "    \n",
    "    return k"
   ]
  },
  {
   "cell_type": "code",
   "execution_count": 27,
   "metadata": {},
   "outputs": [
    {
     "name": "stdout",
     "output_type": "stream",
     "text": [
      "\n",
      "Octet 0: 11111110\n",
      "Octet 1: 01011101\n",
      "Octet 2: 01111001\n",
      "Octet 3: 10100100\n",
      "Octet 4: 01111111\n",
      "Octet 5: 00100000\n",
      "Octet 6: 10011110\n",
      "Octet 7: 00100011\n"
     ]
    }
   ],
   "source": [
    "#Test\n",
    "afficheOctets(genKey())"
   ]
  },
  {
   "cell_type": "code",
   "execution_count": 29,
   "metadata": {},
   "outputs": [],
   "source": [
    "#phi1:\n",
    "PC1g = array([57,49,41,33,25,17,9,\n",
    "1,58,50,42,34,26,18,\n",
    "10,2,59,51,43,35,27,\n",
    "19,11,3,60,52,44,36])\n",
    "\n",
    "PC1d = array([63,55,47,39,31,23,15,\n",
    "7,62,54,46,38,30,22,\n",
    "14,6,61,53,45,37,29,\n",
    "21,13,5,28,20,12,4])\n",
    "\n",
    "#phi2:\n",
    "PC2 = array([14,17,11,24,1,5,\n",
    "3,28,15,6,21,10,\n",
    "23,19,12,4,26,8,\n",
    "16,7,27,20,13,2,\n",
    "41,52,31,37,47,55,\n",
    "30,40,51,45,33,48,\n",
    "44,49,39,56,34,53,\n",
    "46,42,50,36,29,32])"
   ]
  },
  {
   "attachments": {},
   "cell_type": "markdown",
   "metadata": {},
   "source": [
    "La fonction $phi1$ prend en paramètre une clé k et retourne le couple $(C, D)$ où $C$ et $D$ sont les permutations de certains éléments de $k$ selon la table de permutation $PC_{1g}$ (pour C) et $PC_{2d}$ (pour D)."
   ]
  },
  {
   "cell_type": "code",
   "execution_count": 30,
   "metadata": {},
   "outputs": [],
   "source": [
    "def phi1(k):\n",
    "    C = \"\"\n",
    "    D = \"\"\n",
    "    for data in PC1g:\n",
    "        C += k[data-1]\n",
    "        \n",
    "    for data in PC1d:\n",
    "        D += k[data-1]\n",
    "\n",
    "    return (C, D)"
   ]
  },
  {
   "attachments": {},
   "cell_type": "markdown",
   "metadata": {},
   "source": [
    "La fonction $phi2$ prend en paramètre un couple $(C, D)$ et retourne la clé $k$ de longueur 48 (56 avec 8 mots oubliés et les autres permutés) obtenue par la concaténation de $C$ et $D$ selon la table de permutation $PC_{2}$."
   ]
  },
  {
   "cell_type": "code",
   "execution_count": 31,
   "metadata": {},
   "outputs": [],
   "source": [
    "def phi2(couple):\n",
    "    mot = \"\" \n",
    "    \n",
    "    # Concatenation:\n",
    "    for i in range(28):\n",
    "        mot += couple[0][i]\n",
    "        \n",
    "    for j in range(28):    \n",
    "        mot += couple[1][j]\n",
    "    \n",
    "    # Permutation:\n",
    "    k = \"\"\n",
    "    for data in PC2:\n",
    "        k += mot[data-1]\n",
    "    \n",
    "    return k\n"
   ]
  },
  {
   "cell_type": "code",
   "execution_count": 33,
   "metadata": {},
   "outputs": [
    {
     "name": "stdout",
     "output_type": "stream",
     "text": [
      "Phi1:  ('1110111110100111011010100110', '0010011101100101001110011001') \n",
      "\n",
      "Phi2:  101011101110110011111001011010000001111111010100\n",
      "Taille Phi2:  48 \n",
      "\n"
     ]
    }
   ],
   "source": [
    "#Test\n",
    "sessionKey = genKey()\n",
    "\n",
    "print(\"Phi1: \",phi1(sessionKey), \"\\n\")\n",
    "print(\"Phi2: \",phi2(phi1(sessionKey)))\n",
    "\n",
    "print(\"Taille Phi2: \",len(phi2(phi1(sessionKey))), \"\\n\")"
   ]
  },
  {
   "attachments": {},
   "cell_type": "markdown",
   "metadata": {},
   "source": [
    "Les S-boites sont les boites de substitution suivantes:"
   ]
  },
  {
   "cell_type": "code",
   "execution_count": 34,
   "metadata": {},
   "outputs": [],
   "source": [
    "S1 = array([\n",
    "[14,4,13,1,2,15,11,8,3,10,6,12,5,9,0,7],\n",
    "[0,15,7,4,14,2,13,1,10,6,12,11,9,5,3,8],\n",
    "[4,1,14,8,13,6,2,11,15,12,9,7,3,10,5,0],\n",
    "[15,12,8,2,4,9,1,7,5,11,3,14,10,0,6,13]])\n",
    "\n",
    "S2 = array([\n",
    "[15,1,8,14,6,11,3,4,9,7,2,13,12,0,5,10],\n",
    "[3,13,4,7,15,2,8,14,12,0,1,10,6,9,11,5],\n",
    "[0,14,7,11,10,4,13,1,5,8,12,6,9,3,2,15],\n",
    "[13,8,10,1,3,15,4,2,11,6,7,12,0,5,14,9]])\n",
    "\n",
    "S3 = array([\n",
    "[10,0,9,14,6,3,15,5,1,13,12,7,11,4,2,8],\n",
    "[13,7,0,9,3,4,6,10,2,8,5,14,12,11,15,1],\n",
    "[13,6,4,9,8,15,3,0,11,1,2,12,5,10,14,7],\n",
    "[1,10,13,0,6,9,8,7,4,15,14,3,11,5,2,12]])\n",
    "\n",
    "S4 = array([\n",
    "[7,13,14,3,0,6,9,10,1,2,8,5,11,12,4,15],\n",
    "[13,8,11,5,6,15,0,3,4,7,2,12,1,10,14,9],\n",
    "[10,6,9,0,12,11,7,13,15,1,3,14,5,2,8,4],\n",
    "[3,15,0,6,10,1,13,8,9,4,5,11,12,7,2,14]])\n",
    "\n",
    "S5 = array([\n",
    "[2,12,4,1,7,10,11,6,8,5,3,15,13,0,14,9],\n",
    "[14,11,2,12,4,7,13,1,5,0,15,10,3,9,8,6],\n",
    "[4,2,1,11,10,13,7,8,15,9,12,5,6,3,0,14],\n",
    "[11,8,12,7,1,14,2,13,6,15,0,9,10,4,5,3]])\n",
    "\n",
    "S6 = array([\n",
    "[12,1,10,15,9,2,6,8,0,13,3,4,14,7,5,11],\n",
    "[10,15,4,2,7,12,9,5,6,1,13,14,0,11,3,8],\n",
    "[9,14,15,5,2,8,12,3,7,0,4,10,1,13,11,6],\n",
    "[4,3,2,12,9,5,15,10,11,14,1,7,6,0,8,13]])\n",
    "\n",
    "S7 = array([\n",
    "[4,11,2,14,15,0,8,13,3,12,9,7,5,10,6,1],\n",
    "[13,0,11,7,4,9,1,10,14,3,5,12,2,15,8,6],\n",
    "[1,4,11,13,12,3,7,14,10,15,6,8,0,5,9,2],\n",
    "[6,11,13,8,1,4,10,7,9,5,0,15,14,2,3,12]])\n",
    "\n",
    "S8 = array([\n",
    "[13,2,8,4,6,15,11,1,10,9,3,14,5,0,12,7],\n",
    "[1,15,13,8,10,3,7,4,12,5,6,11,0,14,9,2],\n",
    "[7,11,4,1,9,12,14,2,0,6,10,13,15,3,5,8],\n",
    "[2,1,14,7,4,10,8,13,15,12,9,0,3,5,6,11]])"
   ]
  },
  {
   "attachments": {},
   "cell_type": "markdown",
   "metadata": {},
   "source": [
    "L'Expension E est représentée par la table suivante:"
   ]
  },
  {
   "cell_type": "code",
   "execution_count": 35,
   "metadata": {},
   "outputs": [],
   "source": [
    "E = array([32 ,1 ,2 ,3 ,4 ,5,\n",
    "4 ,5 ,6 ,7 ,8 ,9,\n",
    "8 ,9 ,10 ,11 ,12 ,13,\n",
    "12 ,13 ,14 ,15 ,16 ,17,\n",
    "16 ,17 ,18 ,19 ,20 ,21,\n",
    "20 ,21 ,22 ,23 ,24 ,25,\n",
    "24 ,25 ,26 ,27 ,28 ,29,\n",
    "28 ,29 ,30 ,31 ,32 ,1 ])"
   ]
  },
  {
   "attachments": {},
   "cell_type": "markdown",
   "metadata": {},
   "source": [
    "La permutation de sortie P est représentée par la table suivante:"
   ]
  },
  {
   "cell_type": "code",
   "execution_count": 36,
   "metadata": {},
   "outputs": [],
   "source": [
    "P  = array([16,7,20,21,\n",
    "29,12,28,17,\n",
    "1,15,23,26,\n",
    "5,18,31,10,\n",
    "2,8,24,14,\n",
    "32,27,3,9,\n",
    "19,13,30,6,\n",
    "22,11,4,25])"
   ]
  },
  {
   "attachments": {},
   "cell_type": "markdown",
   "metadata": {},
   "source": [
    "La fonction $IntToBinary$ retourne un entier $n \\in\\{0,15\\}$ sous la forme d'une chaine de caractère binaire de taille $4$."
   ]
  },
  {
   "cell_type": "code",
   "execution_count": 37,
   "metadata": {},
   "outputs": [],
   "source": [
    "def IntToBinary(n):\n",
    "    word = bin(n).replace(\"0b\", \"\")\n",
    "    return word.zfill(4)"
   ]
  },
  {
   "cell_type": "code",
   "execution_count": 38,
   "metadata": {},
   "outputs": [
    {
     "name": "stdout",
     "output_type": "stream",
     "text": [
      "0001\n",
      "0111\n",
      "1100\n",
      "1111\n"
     ]
    }
   ],
   "source": [
    "#test\n",
    "print (IntToBinary(1))\n",
    "print(IntToBinary(7))\n",
    "print(IntToBinary(12))\n",
    "print(IntToBinary(15))"
   ]
  },
  {
   "attachments": {},
   "cell_type": "markdown",
   "metadata": {},
   "source": [
    "On cherche à déterminer le couple $(L_0, R_0)$ (pour left et right) à partir de $p$ et de la clé $k$. On utilise la permutation initiale $\\sigma$ pour permuter les bits de $p$."
   ]
  },
  {
   "cell_type": "code",
   "execution_count": 84,
   "metadata": {},
   "outputs": [],
   "source": [
    "sigma = array(\n",
    "    [58,50,42,34,26,18,10,2,60,52,44,36,28,20,12,4,62,54,46,38,30,22,14,6,64,56,48,40,32,24,16,8,\n",
    "     57,49,41,33,25,17,9,1,59,51,43,35,27,19,11,3,61,53,45,37,29,21,13,5,63,55,47,39,31,23,15,7], dtype = int)\n",
    "\n",
    "sigma_moins_un = [40, 8, 48, 16, 56, 24, 64, 32, 39, 7, 47, 15, 55, 23, 63, 31, 38, 6, 46, 14,\n",
    "                  54, 22, 62, 30, 37, 5, 45, 13, 53, 21, 61, 29, 36, 4, 44, 12, 52, 20, 60, 28,\n",
    "                  35, 3, 43, 11, 51, 19, 59, 27, 34, 2, 42, 10, 50, 18, 58, 26, 33, 1, 41, 9, 49, 17, 57, 25]"
   ]
  },
  {
   "cell_type": "code",
   "execution_count": 112,
   "metadata": {},
   "outputs": [],
   "source": [
    "def sigma0(word):\n",
    "    result = \"\"\n",
    "    \n",
    "    # Le bit d'indice i est remplacé par le bit d'indice sigma-1(i):\n",
    "    for i in range(64):\n",
    "        result += word[sigma_moins_un[i]-1]\n",
    "    \n",
    "    return (result[:32], result[32:])"
   ]
  },
  {
   "cell_type": "code",
   "execution_count": 137,
   "metadata": {},
   "outputs": [],
   "source": [
    "def sigma0_moins_un(couple):\n",
    "    word = couple[0] + couple[1]\n",
    "    result = \"\"\n",
    "\n",
    "    # Le bit d'indice i est remplacé par le bit d'indice sigma(i):\n",
    "    for i in range(64):\n",
    "        result += word[sigma[i]-1]\n",
    "\n",
    "    return result"
   ]
  },
  {
   "cell_type": "code",
   "execution_count": 41,
   "metadata": {},
   "outputs": [
    {
     "name": "stdout",
     "output_type": "stream",
     "text": [
      "Message : 0100100101101000100101001101011111110101111111111110011111000000\n",
      "L : 1110100100101001101011010111000 et R : 10100101101110001111101110101111\n"
     ]
    }
   ],
   "source": [
    "#Test\n",
    "word = clearRandomMessage()\n",
    "print(\"Message :\", word)\n",
    "L, R = sigma0(word)\n",
    "print(\"L :\", L, \"et R :\", R)"
   ]
  },
  {
   "attachments": {},
   "cell_type": "markdown",
   "metadata": {},
   "source": [
    "La fonction B calcule E(R) XOR K à partir d'un mot R de longueur 32 et d'une clé K de longueur 48"
   ]
  },
  {
   "cell_type": "code",
   "execution_count": 42,
   "metadata": {},
   "outputs": [],
   "source": [
    "def B(R, K):\n",
    "    #Expension de R\n",
    "    R = [R[i-1] for i in E]\n",
    "    #XOR de R et K\n",
    "    R = [int(R[i]) ^ int(K[i]) for i in range(len(R))]\n",
    "    res = \"\"\n",
    "    for bit in R:\n",
    "        res += str(bit)\n",
    "    return res"
   ]
  },
  {
   "cell_type": "code",
   "execution_count": 65,
   "metadata": {},
   "outputs": [
    {
     "name": "stdout",
     "output_type": "stream",
     "text": [
      "Le mot B obtenu:  000011110101111000110110110001100111010110100001\n"
     ]
    }
   ],
   "source": [
    "#Test\n",
    "print(\"Le mot B obtenu: \",B(R, sessionKey))"
   ]
  },
  {
   "attachments": {},
   "cell_type": "markdown",
   "metadata": {},
   "source": [
    "La fonction $decoupe$ permet de decouper le mot B en B1,B2...B8"
   ]
  },
  {
   "cell_type": "code",
   "execution_count": 44,
   "metadata": {},
   "outputs": [],
   "source": [
    "def decoupe(B):\n",
    "    listBi = []\n",
    "    Bi = \"\"\n",
    "    for i in range(48):\n",
    "        if i%6 == 0 and i != 0:\n",
    "            listBi.append(Bi)\n",
    "            Bi = \"\"\n",
    "        \n",
    "        Bi += B[i]\n",
    "    \n",
    "    listBi.append(Bi)\n",
    "    \n",
    "    return listBi"
   ]
  },
  {
   "cell_type": "code",
   "execution_count": 46,
   "metadata": {},
   "outputs": [
    {
     "name": "stdout",
     "output_type": "stream",
     "text": [
      "['000000', '000000', '000000', '001111', '111111', '111111', '111100', '011101']\n"
     ]
    }
   ],
   "source": [
    "#Test\n",
    "print(decoupe(\"000000000000000000001111111111111111111100011101\"))"
   ]
  },
  {
   "attachments": {},
   "cell_type": "markdown",
   "metadata": {},
   "source": [
    "La fonction $C$ prend en paramètre la liste des 8 $B_i$, chacun de longueur 6, calcule les $C_i = S_i(B_i)$ puis concatene les $C_i$ pour obtenir $C$."
   ]
  },
  {
   "cell_type": "code",
   "execution_count": 61,
   "metadata": {},
   "outputs": [],
   "source": [
    "def C(B):\n",
    "    mot = \"\"\n",
    "    listSi = [S1, S2, S3, S4, S5, S6, S7, S8]\n",
    "\n",
    "    for i in range(8):\n",
    "        indLigne = int(B[i][0])*2 + int(B[i][5])\n",
    "        indColonne = int(B[i][1])*8 + int(B[i][2])*4 + int(B[i][3])*2 + int(B[i][4])\n",
    "        mot += IntToBinary(listSi[i][indLigne, indColonne])\n",
    "    \n",
    "    return mot"
   ]
  },
  {
   "cell_type": "code",
   "execution_count": 63,
   "metadata": {},
   "outputs": [
    {
     "name": "stdout",
     "output_type": "stream",
     "text": [
      "Concaténation des Ci: 11101111101000110011110110011001\n"
     ]
    }
   ],
   "source": [
    "#Test \n",
    "print(\"Concaténation des Ci: \"+ C(decoupe(\"000000000000000000001111111111111111111100011101\")))\n"
   ]
  },
  {
   "cell_type": "code",
   "execution_count": 64,
   "metadata": {},
   "outputs": [],
   "source": [
    "def fki(R, ki):\n",
    "    B_word = B(R, ki)\n",
    "    listB = decoupe(B_word)\n",
    "    C_word = C(listB)\n",
    "    \n",
    "    # permutation P(C):\n",
    "    C_word = [C_word[i-1] for i in P]\n",
    "    res = \"\"\n",
    "    for bit in C_word:\n",
    "        res += str(bit)\n",
    "        \n",
    "    return res "
   ]
  },
  {
   "cell_type": "code",
   "execution_count": 69,
   "metadata": {},
   "outputs": [
    {
     "name": "stdout",
     "output_type": "stream",
     "text": [
      "Le mot fki obtenu:  01010110110101111101011011011010\n"
     ]
    }
   ],
   "source": [
    "#Test\n",
    "print(\"Le mot fki obtenu: \",fki(R, sessionKey))"
   ]
  },
  {
   "attachments": {},
   "cell_type": "markdown",
   "metadata": {},
   "source": [
    "La fonction tour permet de générer un nouveau couple (Li, Ri) à partir de (Li-1, Ri-1).\n",
    "Elle prent en paramètre la clé de tour ki et le couple (Li-1, Ri-1)."
   ]
  },
  {
   "cell_type": "code",
   "execution_count": 125,
   "metadata": {},
   "outputs": [],
   "source": [
    "def tour(couple, ki):\n",
    "    R = couple[1]\n",
    "    L = couple[0]\n",
    "    newL = R\n",
    "    R_prime = fki(R, ki)\n",
    "    newRbits = [int(L[i]) ^ int(R_prime[i]) for i in range(len(R_prime))]\n",
    "    newR = \"\"\n",
    "    for bit in newRbits:\n",
    "        newR += str(bit)\n",
    "\n",
    "    return (newL, newR)"
   ]
  },
  {
   "cell_type": "code",
   "execution_count": 72,
   "metadata": {},
   "outputs": [],
   "source": [
    "def permutaion_circlulaire(word, n):\n",
    "    return word[n:] + word[:n]\n"
   ]
  },
  {
   "attachments": {},
   "cell_type": "markdown",
   "metadata": {},
   "source": [
    "La fonction $genAllKi$ est une fonction qui génère les 16 clés de tour pour pouvoir les utiliser par la suite, qui fait appel à phi1 et phi2 et qui effectue une permutation pour chaque clé sur (C, D) en fonction de $v_i$:\n",
    "\n",
    "Pour $i = 1,\\cdots,16$\n",
    "\\begin{align*}\n",
    "v_i =\n",
    "\\begin{cases}\n",
    "1 & \\text{si } i \\in \\{1,2,9,16\\} \\\\\n",
    "2 & \\text{sinon}\n",
    "\\end{cases}\n",
    "\\end{align*}"
   ]
  },
  {
   "cell_type": "code",
   "execution_count": 80,
   "metadata": {},
   "outputs": [],
   "source": [
    "def genAllKi(K):\n",
    "    testList = [1, 2, 9, 16]\n",
    "    kiList = []\n",
    "    couple = phi1(K)\n",
    "\n",
    "    for i in range(16):      \n",
    "        if i in testList:\n",
    "            perm = 1\n",
    "        else:\n",
    "            perm = 2\n",
    "\n",
    "        couple = (permutaion_circlulaire(couple[0], perm), permutaion_circlulaire(couple[1], perm))\n",
    "        kiList.append(phi2(couple))\n",
    "        \n",
    "    return kiList"
   ]
  },
  {
   "cell_type": "code",
   "execution_count": 81,
   "metadata": {},
   "outputs": [
    {
     "name": "stdout",
     "output_type": "stream",
     "text": [
      "Voici la liste des 16 clés de tour: \n",
      "\n",
      "['100110110010110011000001001010001000001000000000', '000010010010100000011111000000100000000000101000', '010110010110011010001100000100000100010000000010', '010100001001010110001100000011000000000000000000', '010100001000100001100111100000000110000001000000', '101000011110100000100110001000001000001000000000', '101000000010011110100110100100000000010000000010', '111100000001011000110001000011000000001000000000', '110001011001001001110000000100000110000001000000', '101000001110000101111010010000000000100000000101', '101001000100011100010011000000100000000010011000', '011001110001101100010001000000010001000100000001', '000011111011000011010001000000100000000000100000', '000111110100010011011010010000000000100100000100', '011111100100000110001000000000000000000010011000', '000110101000100100001101010000010001000000000001']\n"
     ]
    }
   ],
   "source": [
    "#Test \n",
    "listKi = genAllKi(genKey())\n",
    "print(\"Voici la liste des 16 clés de tour: \\n\")\n",
    "print(listKi)"
   ]
  },
  {
   "attachments": {},
   "cell_type": "markdown",
   "metadata": {},
   "source": [
    "La fonction $DES$ prend en paramètre un mot en clair binaire et retourne le mot correspondant chiffré par la methode DES."
   ]
  },
  {
   "cell_type": "code",
   "execution_count": 129,
   "metadata": {},
   "outputs": [],
   "source": [
    "def DES(p):\n",
    "    K = genKey()\n",
    "    couple = sigma0(p)\n",
    "    kiList = genAllKi(K)\n",
    "\n",
    "    # On effectue les 16 tours:\n",
    "    for i in range(16):\n",
    "        couple = tour(couple, listKi[i])\n",
    "    \n",
    "    # Permutation finale:\n",
    "    return sigma0_moins_un(couple)"
   ]
  },
  {
   "cell_type": "code",
   "execution_count": 181,
   "metadata": {},
   "outputs": [
    {
     "name": "stdout",
     "output_type": "stream",
     "text": [
      "Message en clair:        0011100000101011100011101101101001011100000010100111110101100001\n",
      "Message chiffré par DES: 0010100001011111101110011101110010101011000101100100000101110010\n"
     ]
    }
   ],
   "source": [
    "#Test\n",
    "p = clearRandomMessage()\n",
    "print(\"Message en clair:        \" + p)\n",
    "print(\"Message chiffré par DES: \" + DES(p))"
   ]
  },
  {
   "attachments": {},
   "cell_type": "markdown",
   "metadata": {},
   "source": [
    "La fonction $chiffrementChaines$ ne fait pas partie du DES, elle permet uniquement de nous aider à visualiser le chiffremement. Elle prend en paramètre une chaine de caractères lisible par l'Homme (i.e non binaire) et retourne la chaine associée chiffrée par DES."
   ]
  },
  {
   "cell_type": "code",
   "execution_count": 152,
   "metadata": {},
   "outputs": [],
   "source": [
    "def BinaryToString(binary):\n",
    "    res = \"\"\n",
    "    for i in range(0, len(binary), 8):\n",
    "        res += chr(int(binary[i:i+8], 2))\n",
    "    return res"
   ]
  },
  {
   "cell_type": "code",
   "execution_count": 275,
   "metadata": {},
   "outputs": [],
   "source": [
    "def chiffrementChaines(word):\n",
    "    listP = StringToBinary(word)\n",
    "    result = \"\"\n",
    "\n",
    "    for p in listP:\n",
    "        result += DES(p)\n",
    "    \n",
    "    return BinaryToString(result)\n"
   ]
  },
  {
   "cell_type": "code",
   "execution_count": 278,
   "metadata": {},
   "outputs": [
    {
     "name": "stdout",
     "output_type": "stream",
     "text": [
      "Chiffrement de la chaîne 'Bonjour tout le monde !' :\n",
      "&ì-H\u001fEð\u0006\u0003·¶åÚP¡.\u000b(ÑvÒ×\n"
     ]
    }
   ],
   "source": [
    "#Test\n",
    "print(\"Chiffrement de la chaîne 'Bonjour tout le monde !' :\")\n",
    "print(chiffrementChaines(\"Bonjour tout le monde !\"))\n"
   ]
  }
 ],
 "metadata": {
  "kernelspec": {
   "display_name": "Python 3",
   "language": "python",
   "name": "python3"
  },
  "language_info": {
   "codemirror_mode": {
    "name": "ipython",
    "version": 3
   },
   "file_extension": ".py",
   "mimetype": "text/x-python",
   "name": "python",
   "nbconvert_exporter": "python",
   "pygments_lexer": "ipython3",
   "version": "3.10.5"
  },
  "orig_nbformat": 4,
  "vscode": {
   "interpreter": {
    "hash": "b88eebb25f3b05651133cf3084544793dc5be31e430e5440e92319578510e5fa"
   }
  }
 },
 "nbformat": 4,
 "nbformat_minor": 2
}
